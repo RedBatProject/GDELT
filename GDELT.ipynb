{
  "nbformat": 4,
  "nbformat_minor": 0,
  "metadata": {
    "colab": {
      "provenance": [],
      "authorship_tag": "ABX9TyO8e5BMbxhjcyE6cOJYd7Al",
      "include_colab_link": true
    },
    "kernelspec": {
      "name": "python3",
      "display_name": "Python 3"
    },
    "language_info": {
      "name": "python"
    }
  },
  "cells": [
    {
      "cell_type": "markdown",
      "metadata": {
        "id": "view-in-github",
        "colab_type": "text"
      },
      "source": [
        "<a href=\"https://colab.research.google.com/github/RedBatProject/GDELT/blob/main/GDELT.ipynb\" target=\"_parent\"><img src=\"https://colab.research.google.com/assets/colab-badge.svg\" alt=\"Open In Colab\"/></a>"
      ]
    },
    {
      "cell_type": "code",
      "source": [
        "!pip install gdelt==0.1.10.5.3"
      ],
      "metadata": {
        "id": "kiPfNLwHpeGc"
      },
      "execution_count": null,
      "outputs": []
    },
    {
      "cell_type": "code",
      "source": [
        "!pip install pygeodesy"
      ],
      "metadata": {
        "id": "rMLU1L3NrAbW"
      },
      "execution_count": null,
      "outputs": []
    },
    {
      "cell_type": "code",
      "source": [
        "!pip install marisa_trie"
      ],
      "metadata": {
        "id": "ck_vzScGrEZ-"
      },
      "execution_count": null,
      "outputs": []
    },
    {
      "cell_type": "code",
      "execution_count": 12,
      "metadata": {
        "id": "U3dY_VsjpAd8"
      },
      "outputs": [],
      "source": [
        "import pandas as pd               # gdelt data will be pulled into a Pandas dataframe\n",
        "import numpy as np                # used for array and vector operations\n",
        "import gdelt                      # for gdelt searches\n",
        "import pygeodesy as pgd           # for geohash operations\n",
        "import marisa_trie as mt          # for creating a trie data structure\n",
        "import warnings                   # gdelt searches generates a bunch of warnings, so suppress them\n",
        "warnings.filterwarnings('ignore')"
      ]
    },
    {
      "cell_type": "code",
      "source": [
        "gd = gdelt.gdelt()     # instantiate the gdeltPyR object for searches\n",
        "october = gd.Search(date=['2023 Jul 29','2023 Jul 30'], normcols=True) # normalize column names to SQL friendly format\n",
        "print(\"The number of reports is\", len(october))     # number of events returned"
      ],
      "metadata": {
        "colab": {
          "base_uri": "https://localhost:8080/"
        },
        "id": "vqwA3Q8zpatu",
        "outputId": "d48eab16-2f4c-4c01-d249-fb8bfe09794d"
      },
      "execution_count": 16,
      "outputs": [
        {
          "output_type": "stream",
          "name": "stdout",
          "text": [
            "The number of reports is 439\n"
          ]
        }
      ]
    },
    {
      "cell_type": "code",
      "source": [
        "list(october.columns)"
      ],
      "metadata": {
        "colab": {
          "base_uri": "https://localhost:8080/"
        },
        "id": "IlaZzZMDrM3g",
        "outputId": "582c30dc-f11b-4d70-ed18-47f462d196bc"
      },
      "execution_count": 19,
      "outputs": [
        {
          "output_type": "execute_result",
          "data": {
            "text/plain": [
              "['globaleventid',\n",
              " 'sqldate',\n",
              " 'monthyear',\n",
              " 'year',\n",
              " 'fractiondate',\n",
              " 'actor1code',\n",
              " 'actor1name',\n",
              " 'actor1countrycode',\n",
              " 'actor1knowngroupcode',\n",
              " 'actor1ethniccode',\n",
              " 'actor1religion1code',\n",
              " 'actor1religion2code',\n",
              " 'actor1type1code',\n",
              " 'actor1type2code',\n",
              " 'actor1type3code',\n",
              " 'actor2code',\n",
              " 'actor2name',\n",
              " 'actor2countrycode',\n",
              " 'actor2knowngroupcode',\n",
              " 'actor2ethniccode',\n",
              " 'actor2religion1code',\n",
              " 'actor2religion2code',\n",
              " 'actor2type1code',\n",
              " 'actor2type2code',\n",
              " 'actor2type3code',\n",
              " 'isrootevent',\n",
              " 'eventcode',\n",
              " 'cameocodedescription',\n",
              " 'eventbasecode',\n",
              " 'eventrootcode',\n",
              " 'quadclass',\n",
              " 'goldsteinscale',\n",
              " 'nummentions',\n",
              " 'numsources',\n",
              " 'numarticles',\n",
              " 'avgtone',\n",
              " 'actor1geotype',\n",
              " 'actor1geofullname',\n",
              " 'actor1geocountrycode',\n",
              " 'actor1geoadm1code',\n",
              " 'actor1geoadm2code',\n",
              " 'actor1geolat',\n",
              " 'actor1geolong',\n",
              " 'actor1geofeatureid',\n",
              " 'actor2geotype',\n",
              " 'actor2geofullname',\n",
              " 'actor2geocountrycode',\n",
              " 'actor2geoadm1code',\n",
              " 'actor2geoadm2code',\n",
              " 'actor2geolat',\n",
              " 'actor2geolong',\n",
              " 'actor2geofeatureid',\n",
              " 'actiongeotype',\n",
              " 'actiongeofullname',\n",
              " 'actiongeocountrycode',\n",
              " 'actiongeoadm1code',\n",
              " 'actiongeoadm2code',\n",
              " 'actiongeolat',\n",
              " 'actiongeolong',\n",
              " 'actiongeofeatureid',\n",
              " 'dateadded',\n",
              " 'sourceurl']"
            ]
          },
          "metadata": {},
          "execution_count": 19
        }
      ]
    }
  ]
}